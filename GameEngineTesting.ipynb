{
 "cells": [
  {
   "cell_type": "code",
   "execution_count": 1,
   "metadata": {},
   "outputs": [
    {
     "name": "stdout",
     "output_type": "stream",
     "text": [
      "...  ...  ...  \n",
      "...  ...  ...  \n",
      "...  ...  ..X  \n",
      "\n",
      "...  ...  ...  \n",
      "...  .X.  ...  \n",
      "...  ...  ...  \n",
      "\n",
      "...  ...  ...  \n",
      "...  ...  ...  \n",
      "...  ...  ..X  \n",
      "\n"
     ]
    }
   ],
   "source": [
    "from GameEngine import TicTacToeGame, Move, Point\n",
    "\n",
    "move1 = Move(Point(0, 2), Point(2, 2))\n",
    "move2 = Move(Point(2, 2), Point(2, 2))\n",
    "move3 = Move(Point(1, 1), Point(1, 1))\n",
    "game = TicTacToeGame([move3, move1, move2])\n",
    "game.print_game()\n"
   ]
  },
  {
   "cell_type": "code",
   "execution_count": null,
   "metadata": {},
   "outputs": [],
   "source": []
  }
 ],
 "metadata": {
  "kernelspec": {
   "display_name": "Python 3",
   "language": "python",
   "name": "python3"
  },
  "language_info": {
   "codemirror_mode": {
    "name": "ipython",
    "version": 3
   },
   "file_extension": ".py",
   "mimetype": "text/x-python",
   "name": "python",
   "nbconvert_exporter": "python",
   "pygments_lexer": "ipython3",
   "version": "3.6.8"
  }
 },
 "nbformat": 4,
 "nbformat_minor": 1
}
