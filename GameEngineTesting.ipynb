{
 "cells": [
  {
   "cell_type": "code",
   "execution_count": 1,
   "metadata": {},
   "outputs": [
    {
     "name": "stdout",
     "output_type": "stream",
     "text": [
      "XOX  OXO  XOX  \n",
      "...  ...  ...  \n",
      "...  ...  ...  \n",
      "\n",
      "...  ...  ...  \n",
      "...  ...  ...  \n",
      "...  ...  ...  \n",
      "\n",
      "...  ...  ...  \n",
      "...  ...  ...  \n",
      "...  ...  ...  \n",
      "\n",
      "Finished: False\n",
      "Winner: .\n"
     ]
    }
   ],
   "source": [
    "from GameEngine import TicTacToeGame, Move, Point\n",
    "\n",
    "move1 = Move(Point(0, 0), Point(0, 0))\n",
    "move2 = Move(Point(0, 0), Point(0, 1))\n",
    "move3 = Move(Point(0, 0), Point(0, 2))\n",
    "\n",
    "move4 = Move(Point(0, 1), Point(0, 0))\n",
    "move5 = Move(Point(0, 1), Point(0, 1))\n",
    "move6 = Move(Point(0, 1), Point(0, 2))\n",
    "\n",
    "move7 = Move(Point(0, 2), Point(0, 0))\n",
    "move8 = Move(Point(0, 2), Point(0, 1))\n",
    "move9 = Move(Point(0, 2), Point(0, 2))\n",
    "\n",
    "game = TicTacToeGame([move1, move2, move3, \n",
    "                      move4, move5, move6, \n",
    "                      move7, move8, move9])\n",
    "game.print_game()\n",
    "print(game.get_winresult())\n"
   ]
  },
  {
   "cell_type": "code",
   "execution_count": null,
   "metadata": {},
   "outputs": [],
   "source": []
  }
 ],
 "metadata": {
  "kernelspec": {
   "display_name": "Python 3",
   "language": "python",
   "name": "python3"
  },
  "language_info": {
   "codemirror_mode": {
    "name": "ipython",
    "version": 3
   },
   "file_extension": ".py",
   "mimetype": "text/x-python",
   "name": "python",
   "nbconvert_exporter": "python",
   "pygments_lexer": "ipython3",
   "version": "3.6.8"
  }
 },
 "nbformat": 4,
 "nbformat_minor": 1
}
