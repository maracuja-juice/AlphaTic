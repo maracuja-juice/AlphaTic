{
 "cells": [
  {
   "cell_type": "code",
   "execution_count": 1,
   "metadata": {},
   "outputs": [],
   "source": [
    "from GameEngine import TicTacToeGame, Move, Point"
   ]
  },
  {
   "cell_type": "code",
   "execution_count": 2,
   "metadata": {},
   "outputs": [
    {
     "name": "stdout",
     "output_type": "stream",
     "text": [
      "XOX  OXO  XOX  \n",
      "...  ...  ...  \n",
      "...  ...  ...  \n",
      "\n",
      "...  ...  ...  \n",
      "...  ...  ...  \n",
      "...  ...  ...  \n",
      "\n",
      "...  ...  ...  \n",
      "...  ...  ...  \n",
      "...  ...  ...  \n",
      "\n",
      "Finished: False\n",
      "Winner: .\n"
     ]
    }
   ],
   "source": [
    "move1 = Move(Point(0, 0), Point(0, 0))\n",
    "move2 = Move(Point(0, 0), Point(0, 1))\n",
    "move3 = Move(Point(0, 0), Point(0, 2))\n",
    "\n",
    "move4 = Move(Point(0, 1), Point(0, 0))\n",
    "move5 = Move(Point(0, 1), Point(0, 1))\n",
    "move6 = Move(Point(0, 1), Point(0, 2))\n",
    "\n",
    "move7 = Move(Point(0, 2), Point(0, 0))\n",
    "move8 = Move(Point(0, 2), Point(0, 1))\n",
    "move9 = Move(Point(0, 2), Point(0, 2))\n",
    "\n",
    "game = TicTacToeGame([move1, move2, move3, \n",
    "                      move4, move5, move6, \n",
    "                      move7, move8, move9])\n",
    "game.print_game()\n",
    "print(game.get_winresult())"
   ]
  },
  {
   "cell_type": "code",
   "execution_count": 3,
   "metadata": {},
   "outputs": [
    {
     "data": {
      "text/plain": [
       "[0/0, 0/1, 0/2, 1/0, 1/1, 1/2, 2/0, 2/1, 2/2]"
      ]
     },
     "execution_count": 3,
     "metadata": {},
     "output_type": "execute_result"
    }
   ],
   "source": [
    "game = TicTacToeGame([])\n",
    "game.get_current_active_boards()"
   ]
  },
  {
   "cell_type": "code",
   "execution_count": 4,
   "metadata": {},
   "outputs": [
    {
     "data": {
      "text/plain": [
       "[1/0]"
      ]
     },
     "execution_count": 4,
     "metadata": {},
     "output_type": "execute_result"
    }
   ],
   "source": [
    "game = TicTacToeGame([Move(Point(2,2), Point(1, 0))])\n",
    "game.get_current_active_boards()"
   ]
  },
  {
   "cell_type": "code",
   "execution_count": 7,
   "metadata": {},
   "outputs": [
    {
     "data": {
      "text/plain": [
       "[0/0-0/0,\n",
       " 0/0-0/1,\n",
       " 0/0-0/2,\n",
       " 0/0-1/0,\n",
       " 0/0-1/1,\n",
       " 0/0-1/2,\n",
       " 0/0-2/0,\n",
       " 0/0-2/1,\n",
       " 0/0-2/2,\n",
       " 0/1-0/0,\n",
       " 0/1-0/1,\n",
       " 0/1-0/2,\n",
       " 0/1-1/0,\n",
       " 0/1-1/1,\n",
       " 0/1-1/2,\n",
       " 0/1-2/0,\n",
       " 0/1-2/1,\n",
       " 0/1-2/2,\n",
       " 0/2-0/0,\n",
       " 0/2-0/1,\n",
       " 0/2-0/2,\n",
       " 0/2-1/0,\n",
       " 0/2-1/1,\n",
       " 0/2-1/2,\n",
       " 0/2-2/0,\n",
       " 0/2-2/1,\n",
       " 0/2-2/2,\n",
       " 1/0-0/0,\n",
       " 1/0-0/1,\n",
       " 1/0-0/2,\n",
       " 1/0-1/0,\n",
       " 1/0-1/1,\n",
       " 1/0-1/2,\n",
       " 1/0-2/0,\n",
       " 1/0-2/1,\n",
       " 1/0-2/2,\n",
       " 1/1-0/0,\n",
       " 1/1-0/1,\n",
       " 1/1-0/2,\n",
       " 1/1-1/0,\n",
       " 1/1-1/1,\n",
       " 1/1-1/2,\n",
       " 1/1-2/0,\n",
       " 1/1-2/1,\n",
       " 1/1-2/2,\n",
       " 1/2-0/0,\n",
       " 1/2-0/1,\n",
       " 1/2-0/2,\n",
       " 1/2-1/0,\n",
       " 1/2-1/1,\n",
       " 1/2-1/2,\n",
       " 1/2-2/0,\n",
       " 1/2-2/1,\n",
       " 1/2-2/2,\n",
       " 2/0-0/0,\n",
       " 2/0-0/1,\n",
       " 2/0-0/2,\n",
       " 2/0-1/0,\n",
       " 2/0-1/1,\n",
       " 2/0-1/2,\n",
       " 2/0-2/0,\n",
       " 2/0-2/1,\n",
       " 2/0-2/2,\n",
       " 2/1-0/0,\n",
       " 2/1-0/1,\n",
       " 2/1-0/2,\n",
       " 2/1-1/0,\n",
       " 2/1-1/1,\n",
       " 2/1-1/2,\n",
       " 2/1-2/0,\n",
       " 2/1-2/1,\n",
       " 2/1-2/2,\n",
       " 2/2-0/0,\n",
       " 2/2-0/1,\n",
       " 2/2-0/2,\n",
       " 2/2-1/0,\n",
       " 2/2-1/1,\n",
       " 2/2-1/2,\n",
       " 2/2-2/0,\n",
       " 2/2-2/1,\n",
       " 2/2-2/2]"
      ]
     },
     "execution_count": 7,
     "metadata": {},
     "output_type": "execute_result"
    }
   ],
   "source": [
    "game = TicTacToeGame([])\n",
    "game.get_possible_moves()"
   ]
  },
  {
   "cell_type": "code",
   "execution_count": null,
   "metadata": {},
   "outputs": [],
   "source": []
  }
 ],
 "metadata": {
  "kernelspec": {
   "display_name": "Python 3",
   "language": "python",
   "name": "python3"
  },
  "language_info": {
   "codemirror_mode": {
    "name": "ipython",
    "version": 3
   },
   "file_extension": ".py",
   "mimetype": "text/x-python",
   "name": "python",
   "nbconvert_exporter": "python",
   "pygments_lexer": "ipython3",
   "version": "3.6.8"
  }
 },
 "nbformat": 4,
 "nbformat_minor": 1
}
